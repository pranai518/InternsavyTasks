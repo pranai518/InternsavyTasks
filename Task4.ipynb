{
  "nbformat": 4,
  "nbformat_minor": 0,
  "metadata": {
    "colab": {
      "provenance": []
    },
    "kernelspec": {
      "name": "python3",
      "display_name": "Python 3"
    },
    "language_info": {
      "name": "python"
    }
  },
  "cells": [
    {
      "cell_type": "markdown",
      "source": [
        "**Introduction**"
      ],
      "metadata": {
        "id": "VtqmkLw4F5HM"
      }
    },
    {
      "cell_type": "markdown",
      "source": [
        "Greetings from the Kaggle bot! This is an automatically-generated kernel with starter code demonstrating how to read in the data and begin exploring. If you're inspired to dig deeper, click the blue \"Fork Notebook\" button at the top of this kernel to begin editing."
      ],
      "metadata": {
        "id": "T9ZrguUGGCS-"
      }
    },
    {
      "cell_type": "markdown",
      "source": [
        "**Exploratory Analysis**"
      ],
      "metadata": {
        "id": "_057SDC9GJIj"
      }
    },
    {
      "cell_type": "markdown",
      "source": [
        "To begin this exploratory analysis, first import libraries and define functions for plotting the data using matplotlib. Depending on the data, not all plots will be made. (Hey, I'm just a simple kerneling bot, not a Kaggle Competitions Grandmaster!)"
      ],
      "metadata": {
        "id": "WucJnMVbGSlW"
      }
    },
    {
      "cell_type": "code",
      "execution_count": 1,
      "metadata": {
        "id": "avjZ7gcbE5m3"
      },
      "outputs": [],
      "source": [
        "from mpl_toolkits.mplot3d import Axes3D\n",
        "from sklearn.preprocessing import StandardScaler\n",
        "import matplotlib.pyplot as plt # plotting\n",
        "import numpy as np # linear algebra\n",
        "import os # accessing directory structure\n",
        "import pandas as pd # data processing, CSV file I/O (e.g. pd.read_csv)"
      ]
    },
    {
      "cell_type": "code",
      "source": [
        "import pandas as pd\n",
        "\n",
        "Batsman_Data = pd.read_csv('/content/Batsman_Data.csv')\n",
        "Ground_Data = pd.read_csv('/content/Ground_Averages.csv')\n",
        "ODI_Scores_Data = pd.read_csv('/content/ODI_Match_Totals.csv')\n",
        "ODI_Results_Data = pd.read_csv('/content/ODI_Match_Results.csv')\n",
        "Bowler_Data = pd.read_csv('/content/Bowler_data.csv')\n",
        "\n",
        "Batsman_Data.describe"
      ],
      "metadata": {
        "colab": {
          "base_uri": "https://localhost:8080/"
        },
        "id": "IR1uRBipHjNR",
        "outputId": "61764dc7-b0aa-44fa-94b4-76eb936e3266"
      },
      "execution_count": 7,
      "outputs": [
        {
          "output_type": "execute_result",
          "data": {
            "text/plain": [
              "<bound method NDFrame.describe of        Unnamed: 0  Bat1 Runs  BF     SR 4s 6s    Opposition     Ground  \\\n",
              "0               1   DNB    -   -      -  -  -       v India     Nagpur   \n",
              "1               2   DNB    -   -      -  -  -       v India    Kolkata   \n",
              "2               3   DNB    -   -      -  -  -       v India      Delhi   \n",
              "3               4   DNB    -   -      -  -  -  v Bangladesh      Dhaka   \n",
              "4               5   DNB    -   -      -  -  -       v India      Dhaka   \n",
              "...           ...   ...  ...  ..    ... .. ..           ...        ...   \n",
              "11144       11145    46   46  61  75.40  6  1     v Ireland   Dehradun   \n",
              "11145       11146     3    3   6  50.00  0  0     v Ireland   Dehradun   \n",
              "11146       11147     1    1   8  12.50  0  0     v Ireland   Dehradun   \n",
              "11147       11148   DNB    -   -      -  -  -    v Scotland  Edinburgh   \n",
              "11148       11149  TDNB    -   -      -  -  -     v Ireland    Belfast   \n",
              "\n",
              "        Start Date    Match_ID         Batsman  Player_ID  \n",
              "0      18 Dec 2009  ODI # 2933   Oshane Thomas      49619  \n",
              "1      24 Dec 2009  ODI # 2935   Oshane Thomas      49619  \n",
              "2      27 Dec 2009  ODI # 2936   Oshane Thomas      49619  \n",
              "3       4 Jan 2010  ODI # 2937   Oshane Thomas      49619  \n",
              "4       5 Jan 2010  ODI # 2938   Oshane Thomas      49619  \n",
              "...            ...         ...             ...        ...  \n",
              "11144  28 Feb 2019  ODI # 4100  Gulbadin Naib      352048  \n",
              "11145   2 Mar 2019  ODI # 4101  Gulbadin Naib      352048  \n",
              "11146   8 Mar 2019  ODI # 4108  Gulbadin Naib      352048  \n",
              "11147  10 May 2019  ODI # 4131  Gulbadin Naib      352048  \n",
              "11148  19 May 2019  ODI # 4139  Gulbadin Naib      352048  \n",
              "\n",
              "[11149 rows x 13 columns]>"
            ]
          },
          "metadata": {},
          "execution_count": 7
        }
      ]
    },
    {
      "cell_type": "markdown",
      "source": [],
      "metadata": {
        "id": "LGNCIzxwF3-H"
      }
    }
  ]
}